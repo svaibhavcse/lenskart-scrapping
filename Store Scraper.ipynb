{
 "cells": [
  {
   "cell_type": "code",
   "execution_count": 52,
   "id": "665e0997-1afd-4591-b1b8-6a22bf6f75df",
   "metadata": {},
   "outputs": [],
   "source": [
    "import requests\n",
    "from bs4 import BeautifulSoup\n",
    "import os\n",
    "import csv\n",
    "import re"
   ]
  },
  {
   "cell_type": "code",
   "execution_count": 53,
   "id": "22b6251e",
   "metadata": {},
   "outputs": [
    {
     "data": {
      "text/plain": [
       "['Andhra Pradesh',\n",
       " 'Andmaan nicobar',\n",
       " 'Arunachal Pradesh',\n",
       " 'Assam',\n",
       " 'Bihar',\n",
       " 'Chandigarh',\n",
       " 'Chennai',\n",
       " 'Chhattisgarh',\n",
       " 'Dadra and Nagar Haveli',\n",
       " 'Delhi',\n",
       " 'Goa',\n",
       " 'Gujarat',\n",
       " 'Gwalior',\n",
       " 'Haryana',\n",
       " 'Himachal Pradesh',\n",
       " 'Hyderabad',\n",
       " 'Jammu and Kashmir',\n",
       " 'Jharkhand',\n",
       " 'Karnataka',\n",
       " 'Kerala',\n",
       " 'Madhya Pradesh',\n",
       " 'Maharashtra',\n",
       " 'Manipur',\n",
       " 'Nagaland',\n",
       " 'New Delhi',\n",
       " 'Odisha',\n",
       " 'Puducherry',\n",
       " 'Punjab',\n",
       " 'Rajasthan',\n",
       " 'Sikkim',\n",
       " 'Tamil Nadu',\n",
       " 'Tamil\\xa0Nadu',\n",
       " 'Telangana',\n",
       " 'Tripura',\n",
       " 'Uttar Pradesh',\n",
       " 'Uttarakhand',\n",
       " 'Utter Pradesh',\n",
       " 'Uttrakhand',\n",
       " 'West Bengal']"
      ]
     },
     "execution_count": 53,
     "metadata": {},
     "output_type": "execute_result"
    }
   ],
   "source": [
    "stores_url = 'https://www.lenskart.com/stores'\n",
    "response = requests.get(stores_url)\n",
    "#extracting all the locations of lenskart stores\n",
    "locations=re.findall('class=\"undefined\".*?><.*?>(.*?)<',response.text,re.S)\n",
    "locations\n"
   ]
  },
  {
   "cell_type": "code",
   "execution_count": 54,
   "id": "486250d0-4a0c-458b-a917-a1ac529d0098",
   "metadata": {},
   "outputs": [],
   "source": [
    "for location in locations:\n",
    "    url = 'https://www.lenskart.com/stores/location/' + location\n",
    "    response = requests.get(url)\n",
    "    \n",
    "    soup = BeautifulSoup(response.content, 'html.parser')\n",
    "    \n",
    "    stores = []\n",
    "    for store in soup.find_all('div', class_='StoreCard_imgContainer__P6NMN'):\n",
    "        name = store.find('a', {'class' : \"StoreCard_name__mrTXJ\"}).text\n",
    "        address = store.find('a', {'class' : 'StoreCard_storeAddress__PfC_v'}).text\n",
    "        timings = store.find('div', {'class' : 'StoreCard_storeAddress__PfC_v'}).text[7:-1]\n",
    "        phone = store.find('div', {'class' : \"StoreCard_wrapper__xhJ0A\"}).a.text[1:]    \n",
    "        ratingData = store.find('div',{'class':\"StoreCard_storeRating__dJst3\"})\n",
    "        if ratingData is not None:\n",
    "            rating = ratingData.find_all('span')[1].text\n",
    "            reviewers = ratingData.find('label').text\n",
    "        else:\n",
    "            rating = ''\n",
    "            reviewers = ''\n",
    "        ratingDatas = rating  + reviewers\n",
    "        #appending the datas\n",
    "        stores.append([name, address, location.title(), timings,ratingDatas, phone])\n",
    "    if os.path.exists('lenskart_stores.csv'):\n",
    "            if os.stat('lenskart_stores.csv').st_size > 0:\n",
    "                with open('lenskart_stores.csv', mode='a') as file:\n",
    "                    writer = csv.writer(file,lineterminator='\\n')\n",
    "                    for store in stores:\n",
    "                        writer.writerow(store)\n",
    "    else:\n",
    "        with open('lenskart_stores.csv', mode='a') as file:\n",
    "            writer = csv.writer(file,lineterminator='\\n')\n",
    "            writer.writerow(['Store Name', 'Address', 'Location', 'Timings','Rating (no.of.reviewers)', 'Phone'])\n",
    "            for store in stores:\n",
    "                writer.writerow(store)"
   ]
  }
 ],
 "metadata": {
  "kernelspec": {
   "display_name": "Python 3 (ipykernel)",
   "language": "python",
   "name": "python3"
  },
  "language_info": {
   "codemirror_mode": {
    "name": "ipython",
    "version": 3
   },
   "file_extension": ".py",
   "mimetype": "text/x-python",
   "name": "python",
   "nbconvert_exporter": "python",
   "pygments_lexer": "ipython3",
   "version": "3.11.0"
  }
 },
 "nbformat": 4,
 "nbformat_minor": 5
}
